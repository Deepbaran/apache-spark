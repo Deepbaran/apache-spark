{
 "cells": [
  {
   "cell_type": "markdown",
   "metadata": {
    "application/vnd.databricks.v1+cell": {
     "cellMetadata": {},
     "inputWidgets": {},
     "nuid": "98be1d94-c8b6-4f82-8cc1-57d00970b5e5",
     "showTitle": false,
     "title": ""
    }
   },
   "source": [
    "Questions:\n",
    "1. What is json data and how to read it in spark?\n",
    "2. What if I have 3 keys in all line and 4 keys in one?\n",
    "3. What is multiline and line delimited json?\n",
    "4. Which one works faster - multiline or line-delimited?\n",
    "5. How to convert nested json into spark DF?\n",
    "6. What will happen if I have corrupted json file or invalid json file?"
   ]
  },
  {
   "cell_type": "markdown",
   "metadata": {
    "application/vnd.databricks.v1+cell": {
     "cellMetadata": {},
     "inputWidgets": {},
     "nuid": "8fcd609d-950a-481f-ae94-1dce29a48d1b",
     "showTitle": false,
     "title": ""
    }
   },
   "source": [
    "JSON -> JavaScript Object Notation\\\n",
    "key-value pair\\\n",
    "\n",
    "Structured Data (Tabular):\n",
    "----------------------\n",
    "| id | Name    | age |\n",
    "----------------------\n",
    "| 1  | Deep    | 26  |\n",
    "----------------------\n",
    "| 2  | Dibakar | 26  |\n",
    "----------------------\n",
    "\n",
    "Semistructured Data (JSON):\n",
    "\n",
    "[\n",
    "  {\"id\": 1, \"Name\": \"Deep\", \"age\": 26},\n",
    "  {\"id\": 2, \"Name\": \"Dibakar\", \"age\": 26}\n",
    "]\n",
    "\n",
    "Difference between structured and Semistructured data is, if we had to add a new field/attribute for Deep, then in-case of structered data, we would have to add a new column and assign some value to the records (Null for the records that do not have that field/attribute). But in-case of semistructed data, we can just add that extra attrbute to the record that has that attribute and not add it to the records that do not have a dedicated value for that attribute.\n",
    "\n",
    "Example:\n",
    "\n",
    "Structured Data (Tabular):\n",
    "-----------------------------------------\n",
    "| id | Name    | age | Salary | Nominee |\n",
    "-----------------------------------------\n",
    "| 1  | Deep    | 26  | 20000  | Null    |\n",
    "-----------------------------------------\n",
    "| 2  | Dibakar | 26  | Null   | abc     |\n",
    "-----------------------------------------\n",
    "\n",
    "Semistructured Data (JSON):\n",
    "\n",
    "[\\\n",
    "  {\"id\": 1, \"Name\": \"Deep\", \"age\": 26, \"Salary\": 20000},\\\n",
    "  {\"id\": 2, \"Name\": \"Dibakar\", \"age\": 26, \"Nominee\": \"abc\"}\\\n",
    "]\n",
    "\n",
    "From the above examples, we can see that JSON gives us more flexibility.\n"
   ]
  },
  {
   "cell_type": "markdown",
   "metadata": {
    "application/vnd.databricks.v1+cell": {
     "cellMetadata": {},
     "inputWidgets": {},
     "nuid": "f8527847-6afa-45d9-9013-66347d9fd4cb",
     "showTitle": false,
     "title": ""
    }
   },
   "source": [
    "<pre>\n",
    "File uploaded to /FileStore/tables/line_delimited_json.json\n",
    "File uploaded to /FileStore/tables/single_file_json_with_extra_fields.json\n",
    "File uploaded to /FileStore/tables/corrupted_json.json\n",
    "File uploaded to /FileStore/tables/Multi_line_incorrect.json\n",
    "File uploaded to /FileStore/tables/Multi_line_correct.json\n",
    "File uploaded to /FileStore/tables/file5.json\n",
    "</pre>"
   ]
  },
  {
   "cell_type": "code",
   "execution_count": 0,
   "metadata": {
    "application/vnd.databricks.v1+cell": {
     "cellMetadata": {
      "byteLimit": 2048000,
      "rowLimit": 10000
     },
     "inputWidgets": {},
     "nuid": "575c78d4-5289-4c98-b2a1-e8cb9acdaacd",
     "showTitle": false,
     "title": ""
    }
   },
   "outputs": [
    {
     "output_type": "stream",
     "name": "stdout",
     "output_type": "stream",
     "text": [
      "+---+--------+------+\n|age|    name|salary|\n+---+--------+------+\n| 20|  Manish| 20000|\n| 25|  Nikita| 21000|\n| 16|  Pritam| 22000|\n| 35|Prantosh| 25000|\n| 67|  Vikash| 40000|\n+---+--------+------+\n\n"
     ]
    }
   ],
   "source": [
    "spark.read.format(\"json\")\\\n",
    "        .option(\"inferschema\", \"true\")\\\n",
    "        .option(\"mode\", \"PERMISSIVE\")\\\n",
    "        .load(\"/FileStore/tables/line_delimited_json.json\")\\\n",
    "        .show()"
   ]
  },
  {
   "cell_type": "markdown",
   "metadata": {
    "application/vnd.databricks.v1+cell": {
     "cellMetadata": {},
     "inputWidgets": {},
     "nuid": "3441f87e-2758-4097-a764-416fff05818e",
     "showTitle": false,
     "title": ""
    }
   },
   "source": [
    "- By default, Spark reads line_delimited json files. For line_delimited files, it considers each line as one record and easily reads it.\n",
    "- But for multi_line json we need to pass multi_line as true. As there is no stable way for spark to figure out where one record starts and ends, spark reads the whole file as an object and goes in the files to manually determine each record.\n",
    "- Because of this, reading multi_line json file degrades the performance than reading line_delimited json file.\n",
    "- To pass a multi_line json file correctly, we need to pass it inside a list (a list of dictionary). If we do not pass it in a list then spark will only read the very fast record and stop reading the rest.\n",
    "\n",
    "Examples:\n",
    "- Line delimited:\n",
    "<pre>\n",
    "{\"id\": 1, \"Name\": \"Deep\", \"age\": 26, \"Salary\": 20000},\n",
    "{\"id\": 2, \"Name\": \"Dibakar\", \"age\": 26, \"Nominee\": \"abc\"}\n",
    "</pre>\n",
    "\n",
    "- Multiline:\n",
    "<pre>\n",
    "{\n",
    "  \"id\": 1, \n",
    "  \"Name\": \"Deep\", \n",
    "  \"age\": 26, \n",
    "  \"Salary\": 20000\n",
    "},\n",
    "{\n",
    "  \"id\": 2, \n",
    "  \"Name\": \"Dibakar\", \n",
    "  \"age\": 26, \n",
    "  \"Nominee\": \"abc\"\n",
    "}\n",
    "</pre>"
   ]
  },
  {
   "cell_type": "code",
   "execution_count": 0,
   "metadata": {
    "application/vnd.databricks.v1+cell": {
     "cellMetadata": {
      "byteLimit": 2048000,
      "rowLimit": 10000
     },
     "inputWidgets": {},
     "nuid": "7da71708-020e-4a38-b572-53c15d01665c",
     "showTitle": false,
     "title": ""
    }
   },
   "outputs": [
    {
     "output_type": "stream",
     "name": "stdout",
     "output_type": "stream",
     "text": [
      "+---+------+--------+------+\n|age|gender|    name|salary|\n+---+------+--------+------+\n| 20|  null|  Manish| 20000|\n| 25|  null|  Nikita| 21000|\n| 16|  null|  Pritam| 22000|\n| 35|  null|Prantosh| 25000|\n| 67|     M|  Vikash| 40000|\n+---+------+--------+------+\n\n"
     ]
    }
   ],
   "source": [
    "spark.read.format(\"json\")\\\n",
    "        .option(\"inferschema\", \"true\")\\\n",
    "        .option(\"mode\", \"PERMISSIVE\")\\\n",
    "        .load(\"/FileStore/tables/single_file_json_with_extra_fields.json\")\\\n",
    "        .show()\n",
    "# As the last record is the only one with the extra field, gender, so null is populated for other records that do not have the field in them."
   ]
  },
  {
   "cell_type": "code",
   "execution_count": 0,
   "metadata": {
    "application/vnd.databricks.v1+cell": {
     "cellMetadata": {
      "byteLimit": 2048000,
      "rowLimit": 10000
     },
     "inputWidgets": {},
     "nuid": "41c6ad7a-796f-4eb8-99e3-a46e79382b52",
     "showTitle": false,
     "title": ""
    }
   },
   "outputs": [
    {
     "output_type": "stream",
     "name": "stdout",
     "output_type": "stream",
     "text": [
      "+---+--------+------+\n|age|    name|salary|\n+---+--------+------+\n| 20|  Manish| 20000|\n| 25|  Nikita| 21000|\n| 16|  Pritam| 22000|\n| 35|Prantosh| 25000|\n| 67|  Vikash| 40000|\n+---+--------+------+\n\n"
     ]
    }
   ],
   "source": [
    "spark.read.format(\"json\")\\\n",
    "        .option(\"inferschema\", \"true\")\\\n",
    "        .option(\"mode\", \"PERMISSIVE\")\\\n",
    "        .option(\"multiline\", \"true\")\\\n",
    "        .load(\"/FileStore/tables/Multi_line_correct.json\")\\\n",
    "        .show()"
   ]
  },
  {
   "cell_type": "code",
   "execution_count": 0,
   "metadata": {
    "application/vnd.databricks.v1+cell": {
     "cellMetadata": {
      "byteLimit": 2048000,
      "rowLimit": 10000
     },
     "inputWidgets": {},
     "nuid": "6f132864-9dbf-4529-ac14-08c68308aa4b",
     "showTitle": false,
     "title": ""
    }
   },
   "outputs": [
    {
     "output_type": "stream",
     "name": "stdout",
     "output_type": "stream",
     "text": [
      "+---+------+------+\n|age|  name|salary|\n+---+------+------+\n| 20|Manish| 20000|\n+---+------+------+\n\n"
     ]
    }
   ],
   "source": [
    "spark.read.format(\"json\")\\\n",
    "        .option(\"inferschema\", \"true\")\\\n",
    "        .option(\"mode\", \"PERMISSIVE\")\\\n",
    "        .option(\"multiline\", \"true\")\\\n",
    "        .load(\"/FileStore/tables/Multi_line_incorrect.json\")\\\n",
    "        .show()\n",
    "# As the records were not in a list, so spark only read the very first record."
   ]
  },
  {
   "cell_type": "code",
   "execution_count": 0,
   "metadata": {
    "application/vnd.databricks.v1+cell": {
     "cellMetadata": {
      "byteLimit": 2048000,
      "rowLimit": 10000
     },
     "inputWidgets": {},
     "nuid": "dcfbe531-6b12-4ad2-a0ad-39a15234b764",
     "showTitle": false,
     "title": ""
    }
   },
   "outputs": [
    {
     "output_type": "stream",
     "name": "stdout",
     "output_type": "stream",
     "text": [
      "+----------------------------------------+----+--------+------+\n|_corrupt_record                         |age |name    |salary|\n+----------------------------------------+----+--------+------+\n|null                                    |20  |Manish  |20000 |\n|null                                    |25  |Nikita  |21000 |\n|null                                    |16  |Pritam  |22000 |\n|null                                    |35  |Prantosh|25000 |\n|{\"name\":\"Vikash\",\"age\":67,\"salary\":40000|null|null    |null  |\n+----------------------------------------+----+--------+------+\n\n"
     ]
    }
   ],
   "source": [
    "spark.read.format(\"json\")\\\n",
    "        .option(\"inferschema\", \"true\")\\\n",
    "        .option(\"mode\", \"PERMISSIVE\")\\\n",
    "        .load(\"/FileStore/tables/corrupted_json.json\")\\\n",
    "        .show(truncate=False)\n",
    "# When reading a corrupted json, the corrupted record is stored in the _corrupted_record but parse the valid records in the DF.\n",
    "# In case of invalid JSON, it will give us a complete error.\n",
    "# In case of corrupted JSON, it will not give us an error. Rather just store the corrupted record in a _corrupted_record field."
   ]
  },
  {
   "cell_type": "code",
   "execution_count": 0,
   "metadata": {
    "application/vnd.databricks.v1+cell": {
     "cellMetadata": {
      "byteLimit": 2048000,
      "rowLimit": 10000
     },
     "inputWidgets": {},
     "nuid": "4e552264-1bbd-454f-94d3-de8a8199ec28",
     "showTitle": false,
     "title": ""
    }
   },
   "outputs": [
    {
     "output_type": "stream",
     "name": "stdout",
     "output_type": "stream",
     "text": [
      "root\n |-- code: long (nullable = true)\n |-- message: string (nullable = true)\n |-- restaurants: array (nullable = true)\n |    |-- element: struct (containsNull = true)\n |    |    |-- restaurant: struct (nullable = true)\n |    |    |    |-- R: struct (nullable = true)\n |    |    |    |    |-- res_id: long (nullable = true)\n |    |    |    |-- apikey: string (nullable = true)\n |    |    |    |-- average_cost_for_two: long (nullable = true)\n |    |    |    |-- cuisines: string (nullable = true)\n |    |    |    |-- currency: string (nullable = true)\n |    |    |    |-- deeplink: string (nullable = true)\n |    |    |    |-- establishment_types: array (nullable = true)\n |    |    |    |    |-- element: string (containsNull = true)\n |    |    |    |-- events_url: string (nullable = true)\n |    |    |    |-- featured_image: string (nullable = true)\n |    |    |    |-- has_online_delivery: long (nullable = true)\n |    |    |    |-- has_table_booking: long (nullable = true)\n |    |    |    |-- id: string (nullable = true)\n |    |    |    |-- is_delivering_now: long (nullable = true)\n |    |    |    |-- location: struct (nullable = true)\n |    |    |    |    |-- address: string (nullable = true)\n |    |    |    |    |-- city: string (nullable = true)\n |    |    |    |    |-- city_id: long (nullable = true)\n |    |    |    |    |-- country_id: long (nullable = true)\n |    |    |    |    |-- latitude: string (nullable = true)\n |    |    |    |    |-- locality: string (nullable = true)\n |    |    |    |    |-- locality_verbose: string (nullable = true)\n |    |    |    |    |-- longitude: string (nullable = true)\n |    |    |    |    |-- zipcode: string (nullable = true)\n |    |    |    |-- menu_url: string (nullable = true)\n |    |    |    |-- name: string (nullable = true)\n |    |    |    |-- offers: array (nullable = true)\n |    |    |    |    |-- element: string (containsNull = true)\n |    |    |    |-- photos_url: string (nullable = true)\n |    |    |    |-- price_range: long (nullable = true)\n |    |    |    |-- switch_to_order_menu: long (nullable = true)\n |    |    |    |-- thumb: string (nullable = true)\n |    |    |    |-- url: string (nullable = true)\n |    |    |    |-- user_rating: struct (nullable = true)\n |    |    |    |    |-- aggregate_rating: string (nullable = true)\n |    |    |    |    |-- rating_color: string (nullable = true)\n |    |    |    |    |-- rating_text: string (nullable = true)\n |    |    |    |    |-- votes: string (nullable = true)\n |-- results_found: long (nullable = true)\n |-- results_shown: long (nullable = true)\n |-- results_start: string (nullable = true)\n |-- status: string (nullable = true)\n\n"
     ]
    }
   ],
   "source": [
    "# Reading nested JSON\n",
    "spark.read.format(\"json\")\\\n",
    "        .option(\"inferschema\", \"true\")\\\n",
    "        .option(\"mode\", \"PERMISSIVE\")\\\n",
    "        .load(\"/FileStore/tables/file5.json\")\\\n",
    "        .printSchema()"
   ]
  },
  {
   "cell_type": "code",
   "execution_count": 0,
   "metadata": {
    "application/vnd.databricks.v1+cell": {
     "cellMetadata": {
      "byteLimit": 2048000,
      "rowLimit": 10000
     },
     "inputWidgets": {},
     "nuid": "cbfcf745-af88-4a03-b768-2cb6e61a19cb",
     "showTitle": false,
     "title": ""
    }
   },
   "outputs": [],
   "source": [
    "from pyspark.sql.functions import *\n",
    "from pyspark.sql.types import *"
   ]
  },
  {
   "cell_type": "code",
   "execution_count": 0,
   "metadata": {
    "application/vnd.databricks.v1+cell": {
     "cellMetadata": {
      "byteLimit": 2048000,
      "rowLimit": 10000
     },
     "inputWidgets": {},
     "nuid": "2de83706-6bec-4ca0-8952-62b9a507ca01",
     "showTitle": false,
     "title": ""
    }
   },
   "outputs": [],
   "source": [
    "# To read a nested JSON, we will need to flatten it using explode and other methods. \n",
    "resturant_json_data = spark.read.format(\"json\")\\\n",
    "        .option(\"inferschema\", \"true\")\\\n",
    "        .option(\"multiline\", \"true\")\\\n",
    "        .option(\"mode\", \"PERMISSIVE\")\\\n",
    "        .load(\"/FileStore/tables/file5.json\")"
   ]
  },
  {
   "cell_type": "code",
   "execution_count": 0,
   "metadata": {
    "application/vnd.databricks.v1+cell": {
     "cellMetadata": {
      "byteLimit": 2048000,
      "rowLimit": 10000
     },
     "inputWidgets": {},
     "nuid": "636cf6aa-3130-44f8-ab6c-90bca9829e32",
     "showTitle": false,
     "title": ""
    }
   },
   "outputs": [
    {
     "output_type": "stream",
     "name": "stdout",
     "output_type": "stream",
     "text": [
      "+----+-------+--------------------+-------------+-------------+-------------+------+\n|code|message|         restaurants|results_found|results_shown|results_start|status|\n+----+-------+--------------------+-------------+-------------+-------------+------+\n|null|   null|                  []|            0|            0|            1|  null|\n|null|   null|[{{{17066603}, b9...|         6835|           20|            1|  null|\n|null|   null|                  []|            0|            0|            1|  null|\n|null|   null|                  []|            0|            0|            1|  null|\n|null|   null|[{{{17093124}, b9...|         8680|           20|            1|  null|\n|null|   null|                  []|            0|            0|            1|  null|\n|null|   null|                  []|            0|            0|            1|  null|\n|null|   null|[{{{17580142}, b9...|          943|           20|            1|  null|\n|null|   null|                  []|            0|            0|            1|  null|\n|null|   null|                  []|            0|            0|            1|  null|\n|null|   null|[{{{17284158}, b9...|          257|           20|            1|  null|\n|null|   null|                  []|            0|            0|            1|  null|\n|null|   null|                  []|            0|            0|            1|  null|\n|null|   null|[{{{17678233}, b9...|          358|           20|            1|  null|\n|null|   null|                  []|            0|            0|            1|  null|\n|null|   null|                  []|            0|            0|            1|  null|\n|null|   null|[{{{17375047}, b9...|          641|           20|            1|  null|\n|null|   null|                  []|            0|            0|            1|  null|\n|null|   null|                  []|            0|            0|            1|  null|\n|null|   null|[{{{17616590}, b9...|         1613|           20|            1|  null|\n+----+-------+--------------------+-------------+-------------+-------------+------+\nonly showing top 20 rows\n\n"
     ]
    }
   ],
   "source": [
    "resturant_json_data.show()"
   ]
  },
  {
   "cell_type": "code",
   "execution_count": 0,
   "metadata": {
    "application/vnd.databricks.v1+cell": {
     "cellMetadata": {
      "byteLimit": 2048000,
      "rowLimit": 10000
     },
     "inputWidgets": {},
     "nuid": "7a4b9e17-ef33-4a02-87a7-020d91e97d00",
     "showTitle": false,
     "title": ""
    }
   },
   "outputs": [
    {
     "output_type": "stream",
     "name": "stdout",
     "output_type": "stream",
     "text": [
      "root\n |-- code: long (nullable = true)\n |-- message: string (nullable = true)\n |-- restaurants: array (nullable = true)\n |    |-- element: struct (containsNull = true)\n |    |    |-- restaurant: struct (nullable = true)\n |    |    |    |-- R: struct (nullable = true)\n |    |    |    |    |-- res_id: long (nullable = true)\n |    |    |    |-- apikey: string (nullable = true)\n |    |    |    |-- average_cost_for_two: long (nullable = true)\n |    |    |    |-- cuisines: string (nullable = true)\n |    |    |    |-- currency: string (nullable = true)\n |    |    |    |-- deeplink: string (nullable = true)\n |    |    |    |-- establishment_types: array (nullable = true)\n |    |    |    |    |-- element: string (containsNull = true)\n |    |    |    |-- events_url: string (nullable = true)\n |    |    |    |-- featured_image: string (nullable = true)\n |    |    |    |-- has_online_delivery: long (nullable = true)\n |    |    |    |-- has_table_booking: long (nullable = true)\n |    |    |    |-- id: string (nullable = true)\n |    |    |    |-- is_delivering_now: long (nullable = true)\n |    |    |    |-- location: struct (nullable = true)\n |    |    |    |    |-- address: string (nullable = true)\n |    |    |    |    |-- city: string (nullable = true)\n |    |    |    |    |-- city_id: long (nullable = true)\n |    |    |    |    |-- country_id: long (nullable = true)\n |    |    |    |    |-- latitude: string (nullable = true)\n |    |    |    |    |-- locality: string (nullable = true)\n |    |    |    |    |-- locality_verbose: string (nullable = true)\n |    |    |    |    |-- longitude: string (nullable = true)\n |    |    |    |    |-- zipcode: string (nullable = true)\n |    |    |    |-- menu_url: string (nullable = true)\n |    |    |    |-- name: string (nullable = true)\n |    |    |    |-- offers: array (nullable = true)\n |    |    |    |    |-- element: string (containsNull = true)\n |    |    |    |-- photos_url: string (nullable = true)\n |    |    |    |-- price_range: long (nullable = true)\n |    |    |    |-- switch_to_order_menu: long (nullable = true)\n |    |    |    |-- thumb: string (nullable = true)\n |    |    |    |-- url: string (nullable = true)\n |    |    |    |-- user_rating: struct (nullable = true)\n |    |    |    |    |-- aggregate_rating: string (nullable = true)\n |    |    |    |    |-- rating_color: string (nullable = true)\n |    |    |    |    |-- rating_text: string (nullable = true)\n |    |    |    |    |-- votes: string (nullable = true)\n |-- results_found: long (nullable = true)\n |-- results_shown: long (nullable = true)\n |-- results_start: string (nullable = true)\n |-- status: string (nullable = true)\n\n"
     ]
    }
   ],
   "source": [
    "# As the JSON is multi_level, nested JSON, we need to flatten it.\n",
    "resturant_json_data.printSchema() # Shema will tell us, what are the columns that we need to flatten\n",
    "# We need to flatten the fields of type array and struct\n",
    "# For array, we will need to explode it, to flatten (un-nest) it. Exploding an array will convert it into a struct.\n",
    "# For struct we can access elements using dot (.) operator."
   ]
  },
  {
   "cell_type": "code",
   "execution_count": 0,
   "metadata": {
    "application/vnd.databricks.v1+cell": {
     "cellMetadata": {
      "byteLimit": 2048000,
      "rowLimit": 10000
     },
     "inputWidgets": {},
     "nuid": "7474c620-c0ba-403a-a180-48bfb7888727",
     "showTitle": false,
     "title": ""
    }
   },
   "outputs": [
    {
     "output_type": "stream",
     "name": "stdout",
     "output_type": "stream",
     "text": [
      "root\n |-- code: long (nullable = true)\n |-- message: string (nullable = true)\n |-- restaurants: array (nullable = true)\n |    |-- element: struct (containsNull = true)\n |    |    |-- restaurant: struct (nullable = true)\n |    |    |    |-- R: struct (nullable = true)\n |    |    |    |    |-- res_id: long (nullable = true)\n |    |    |    |-- apikey: string (nullable = true)\n |    |    |    |-- average_cost_for_two: long (nullable = true)\n |    |    |    |-- cuisines: string (nullable = true)\n |    |    |    |-- currency: string (nullable = true)\n |    |    |    |-- deeplink: string (nullable = true)\n |    |    |    |-- establishment_types: array (nullable = true)\n |    |    |    |    |-- element: string (containsNull = true)\n |    |    |    |-- events_url: string (nullable = true)\n |    |    |    |-- featured_image: string (nullable = true)\n |    |    |    |-- has_online_delivery: long (nullable = true)\n |    |    |    |-- has_table_booking: long (nullable = true)\n |    |    |    |-- id: string (nullable = true)\n |    |    |    |-- is_delivering_now: long (nullable = true)\n |    |    |    |-- location: struct (nullable = true)\n |    |    |    |    |-- address: string (nullable = true)\n |    |    |    |    |-- city: string (nullable = true)\n |    |    |    |    |-- city_id: long (nullable = true)\n |    |    |    |    |-- country_id: long (nullable = true)\n |    |    |    |    |-- latitude: string (nullable = true)\n |    |    |    |    |-- locality: string (nullable = true)\n |    |    |    |    |-- locality_verbose: string (nullable = true)\n |    |    |    |    |-- longitude: string (nullable = true)\n |    |    |    |    |-- zipcode: string (nullable = true)\n |    |    |    |-- menu_url: string (nullable = true)\n |    |    |    |-- name: string (nullable = true)\n |    |    |    |-- offers: array (nullable = true)\n |    |    |    |    |-- element: string (containsNull = true)\n |    |    |    |-- photos_url: string (nullable = true)\n |    |    |    |-- price_range: long (nullable = true)\n |    |    |    |-- switch_to_order_menu: long (nullable = true)\n |    |    |    |-- thumb: string (nullable = true)\n |    |    |    |-- url: string (nullable = true)\n |    |    |    |-- user_rating: struct (nullable = true)\n |    |    |    |    |-- aggregate_rating: string (nullable = true)\n |    |    |    |    |-- rating_color: string (nullable = true)\n |    |    |    |    |-- rating_text: string (nullable = true)\n |    |    |    |    |-- votes: string (nullable = true)\n |-- results_found: long (nullable = true)\n |-- results_shown: long (nullable = true)\n |-- results_start: string (nullable = true)\n |-- status: string (nullable = true)\n |-- new_restaurants: struct (nullable = true)\n |    |-- restaurant: struct (nullable = true)\n |    |    |-- R: struct (nullable = true)\n |    |    |    |-- res_id: long (nullable = true)\n |    |    |-- apikey: string (nullable = true)\n |    |    |-- average_cost_for_two: long (nullable = true)\n |    |    |-- cuisines: string (nullable = true)\n |    |    |-- currency: string (nullable = true)\n |    |    |-- deeplink: string (nullable = true)\n |    |    |-- establishment_types: array (nullable = true)\n |    |    |    |-- element: string (containsNull = true)\n |    |    |-- events_url: string (nullable = true)\n |    |    |-- featured_image: string (nullable = true)\n |    |    |-- has_online_delivery: long (nullable = true)\n |    |    |-- has_table_booking: long (nullable = true)\n |    |    |-- id: string (nullable = true)\n |    |    |-- is_delivering_now: long (nullable = true)\n |    |    |-- location: struct (nullable = true)\n |    |    |    |-- address: string (nullable = true)\n |    |    |    |-- city: string (nullable = true)\n |    |    |    |-- city_id: long (nullable = true)\n |    |    |    |-- country_id: long (nullable = true)\n |    |    |    |-- latitude: string (nullable = true)\n |    |    |    |-- locality: string (nullable = true)\n |    |    |    |-- locality_verbose: string (nullable = true)\n |    |    |    |-- longitude: string (nullable = true)\n |    |    |    |-- zipcode: string (nullable = true)\n |    |    |-- menu_url: string (nullable = true)\n |    |    |-- name: string (nullable = true)\n |    |    |-- offers: array (nullable = true)\n |    |    |    |-- element: string (containsNull = true)\n |    |    |-- photos_url: string (nullable = true)\n |    |    |-- price_range: long (nullable = true)\n |    |    |-- switch_to_order_menu: long (nullable = true)\n |    |    |-- thumb: string (nullable = true)\n |    |    |-- url: string (nullable = true)\n |    |    |-- user_rating: struct (nullable = true)\n |    |    |    |-- aggregate_rating: string (nullable = true)\n |    |    |    |-- rating_color: string (nullable = true)\n |    |    |    |-- rating_text: string (nullable = true)\n |    |    |    |-- votes: string (nullable = true)\n\n"
     ]
    }
   ],
   "source": [
    "resturant_json_data.select(\"*\", explode(\"restaurants\").alias(\"new_restaurants\")).printSchema()\n",
    "# restaurant is type array.\n",
    "# To extract anything inside restaurants, we will first need to flatten (un-nest) it.\n",
    "# We cannot explode anything that is inside restaurants, till restaurant itself is exploded.\n",
    "# But we can explode other parallel array fields that are in the save level as restaurants.\n",
    "# Exploding an array will convert it into a struct type\n",
    "# struct and array are not column types. Column types are nested inside them."
   ]
  },
  {
   "cell_type": "code",
   "execution_count": 0,
   "metadata": {
    "application/vnd.databricks.v1+cell": {
     "cellMetadata": {
      "byteLimit": 2048000,
      "rowLimit": 10000
     },
     "inputWidgets": {},
     "nuid": "ca65b0d8-d7a9-46cd-9429-ecc07669d196",
     "showTitle": false,
     "title": ""
    }
   },
   "outputs": [
    {
     "output_type": "stream",
     "name": "stdout",
     "output_type": "stream",
     "text": [
      "root\n |-- code: long (nullable = true)\n |-- message: string (nullable = true)\n |-- results_found: long (nullable = true)\n |-- results_shown: long (nullable = true)\n |-- results_start: string (nullable = true)\n |-- status: string (nullable = true)\n |-- new_restaurants: struct (nullable = true)\n |    |-- restaurant: struct (nullable = true)\n |    |    |-- R: struct (nullable = true)\n |    |    |    |-- res_id: long (nullable = true)\n |    |    |-- apikey: string (nullable = true)\n |    |    |-- average_cost_for_two: long (nullable = true)\n |    |    |-- cuisines: string (nullable = true)\n |    |    |-- currency: string (nullable = true)\n |    |    |-- deeplink: string (nullable = true)\n |    |    |-- establishment_types: array (nullable = true)\n |    |    |    |-- element: string (containsNull = true)\n |    |    |-- events_url: string (nullable = true)\n |    |    |-- featured_image: string (nullable = true)\n |    |    |-- has_online_delivery: long (nullable = true)\n |    |    |-- has_table_booking: long (nullable = true)\n |    |    |-- id: string (nullable = true)\n |    |    |-- is_delivering_now: long (nullable = true)\n |    |    |-- location: struct (nullable = true)\n |    |    |    |-- address: string (nullable = true)\n |    |    |    |-- city: string (nullable = true)\n |    |    |    |-- city_id: long (nullable = true)\n |    |    |    |-- country_id: long (nullable = true)\n |    |    |    |-- latitude: string (nullable = true)\n |    |    |    |-- locality: string (nullable = true)\n |    |    |    |-- locality_verbose: string (nullable = true)\n |    |    |    |-- longitude: string (nullable = true)\n |    |    |    |-- zipcode: string (nullable = true)\n |    |    |-- menu_url: string (nullable = true)\n |    |    |-- name: string (nullable = true)\n |    |    |-- offers: array (nullable = true)\n |    |    |    |-- element: string (containsNull = true)\n |    |    |-- photos_url: string (nullable = true)\n |    |    |-- price_range: long (nullable = true)\n |    |    |-- switch_to_order_menu: long (nullable = true)\n |    |    |-- thumb: string (nullable = true)\n |    |    |-- url: string (nullable = true)\n |    |    |-- user_rating: struct (nullable = true)\n |    |    |    |-- aggregate_rating: string (nullable = true)\n |    |    |    |-- rating_color: string (nullable = true)\n |    |    |    |-- rating_text: string (nullable = true)\n |    |    |    |-- votes: string (nullable = true)\n\n"
     ]
    }
   ],
   "source": [
    "# Now we have new_restaurants field, that is already exploded.\n",
    "# So, we can drop the restaurants field as we do not need it anymore.\n",
    "resturant_json_data.select(\"*\", explode(\"restaurants\").alias(\"new_restaurants\"))\\\n",
    "    .drop(\"restaurants\").printSchema()"
   ]
  },
  {
   "cell_type": "code",
   "execution_count": 0,
   "metadata": {
    "application/vnd.databricks.v1+cell": {
     "cellMetadata": {
      "byteLimit": 2048000,
      "rowLimit": 10000
     },
     "inputWidgets": {},
     "nuid": "0c301426-7ceb-4c28-b272-30e85fa511b4",
     "showTitle": false,
     "title": ""
    }
   },
   "outputs": [
    {
     "output_type": "stream",
     "name": "stdout",
     "output_type": "stream",
     "text": [
      "+--------+\n|  res_id|\n+--------+\n|17066603|\n|17059541|\n|17064405|\n|17057797|\n|17057591|\n|17064266|\n|17060516|\n|17060320|\n|17059060|\n|17059012|\n|17060869|\n|17061231|\n|17058534|\n|17057925|\n|17064031|\n|17061237|\n|17061253|\n|17061296|\n|17061205|\n|17057397|\n+--------+\nonly showing top 20 rows\n\n"
     ]
    }
   ],
   "source": [
    "# Reading res_id column, nested inside struct\n",
    "resturant_json_data.select(\"*\", explode(\"restaurants\").alias(\"new_restaurants\"))\\\n",
    "    .drop(\"restaurants\")\\\n",
    "        .select(\"new_restaurants.restaurant.R.res_id\").show()"
   ]
  },
  {
   "cell_type": "code",
   "execution_count": 0,
   "metadata": {
    "application/vnd.databricks.v1+cell": {
     "cellMetadata": {
      "byteLimit": 2048000,
      "rowLimit": 10000
     },
     "inputWidgets": {},
     "nuid": "6b8107ba-fe69-45db-aba6-c7f0ef51cc87",
     "showTitle": false,
     "title": ""
    }
   },
   "outputs": [
    {
     "output_type": "stream",
     "name": "stdout",
     "output_type": "stream",
     "text": [
      "root\n |-- code: long (nullable = true)\n |-- message: string (nullable = true)\n |-- results_found: long (nullable = true)\n |-- results_shown: long (nullable = true)\n |-- results_start: string (nullable = true)\n |-- status: string (nullable = true)\n |-- new_restaurants: struct (nullable = true)\n |    |-- restaurant: struct (nullable = true)\n |    |    |-- R: struct (nullable = true)\n |    |    |    |-- res_id: long (nullable = true)\n |    |    |-- apikey: string (nullable = true)\n |    |    |-- average_cost_for_two: long (nullable = true)\n |    |    |-- cuisines: string (nullable = true)\n |    |    |-- currency: string (nullable = true)\n |    |    |-- deeplink: string (nullable = true)\n |    |    |-- establishment_types: array (nullable = true)\n |    |    |    |-- element: string (containsNull = true)\n |    |    |-- events_url: string (nullable = true)\n |    |    |-- featured_image: string (nullable = true)\n |    |    |-- has_online_delivery: long (nullable = true)\n |    |    |-- has_table_booking: long (nullable = true)\n |    |    |-- id: string (nullable = true)\n |    |    |-- is_delivering_now: long (nullable = true)\n |    |    |-- location: struct (nullable = true)\n |    |    |    |-- address: string (nullable = true)\n |    |    |    |-- city: string (nullable = true)\n |    |    |    |-- city_id: long (nullable = true)\n |    |    |    |-- country_id: long (nullable = true)\n |    |    |    |-- latitude: string (nullable = true)\n |    |    |    |-- locality: string (nullable = true)\n |    |    |    |-- locality_verbose: string (nullable = true)\n |    |    |    |-- longitude: string (nullable = true)\n |    |    |    |-- zipcode: string (nullable = true)\n |    |    |-- menu_url: string (nullable = true)\n |    |    |-- name: string (nullable = true)\n |    |    |-- offers: array (nullable = true)\n |    |    |    |-- element: string (containsNull = true)\n |    |    |-- photos_url: string (nullable = true)\n |    |    |-- price_range: long (nullable = true)\n |    |    |-- switch_to_order_menu: long (nullable = true)\n |    |    |-- thumb: string (nullable = true)\n |    |    |-- url: string (nullable = true)\n |    |    |-- user_rating: struct (nullable = true)\n |    |    |    |-- aggregate_rating: string (nullable = true)\n |    |    |    |-- rating_color: string (nullable = true)\n |    |    |    |-- rating_text: string (nullable = true)\n |    |    |    |-- votes: string (nullable = true)\n |-- res_id: long (nullable = true)\n\n"
     ]
    }
   ],
   "source": [
    "resturant_json_data.select(\"*\", explode(\"restaurants\").alias(\"new_restaurants\"))\\\n",
    "    .drop(\"restaurants\")\\\n",
    "        .select(\"*\", \"new_restaurants.restaurant.R.res_id\").printSchema()"
   ]
  },
  {
   "cell_type": "code",
   "execution_count": 0,
   "metadata": {
    "application/vnd.databricks.v1+cell": {
     "cellMetadata": {
      "byteLimit": 2048000,
      "rowLimit": 10000
     },
     "inputWidgets": {},
     "nuid": "f6236405-734f-43ae-bb00-b4601954ad7a",
     "showTitle": false,
     "title": ""
    }
   },
   "outputs": [
    {
     "output_type": "stream",
     "name": "stdout",
     "output_type": "stream",
     "text": [
      "root\n |-- code: long (nullable = true)\n |-- message: string (nullable = true)\n |-- results_found: long (nullable = true)\n |-- results_shown: long (nullable = true)\n |-- results_start: string (nullable = true)\n |-- status: string (nullable = true)\n |-- res_id: long (nullable = true)\n |-- establishment_types_new: string (nullable = true)\n |-- name: string (nullable = true)\n\n"
     ]
    }
   ],
   "source": [
    "# Query the below fields within restaurants array:\n",
    "# res_id (R), element (establishment_types), name\n",
    "resturant_json_data.select(\"*\", explode(\"restaurants\").alias(\"new_restaurants\"))\\\n",
    "    .drop(\"restaurants\")\\\n",
    "        .select(\n",
    "            \"*\",\n",
    "            \"new_restaurants.restaurant.R.res_id\",\n",
    "            explode(\"new_restaurants.restaurant.establishment_types\").alias(\"establishment_types_new\"),\n",
    "            \"new_restaurants.restaurant.name\"\n",
    "        ).drop(\"new_restaurants\").printSchema()\n",
    "# We can drop multiple fields together. We just need to add the name of the fields in drop() with a comma (,) separation."
   ]
  },
  {
   "cell_type": "code",
   "execution_count": 0,
   "metadata": {
    "application/vnd.databricks.v1+cell": {
     "cellMetadata": {
      "byteLimit": 2048000,
      "rowLimit": 10000
     },
     "inputWidgets": {},
     "nuid": "635544ac-625f-49a5-a896-fb5b2f80b732",
     "showTitle": false,
     "title": ""
    }
   },
   "outputs": [
    {
     "output_type": "stream",
     "name": "stdout",
     "output_type": "stream",
     "text": [
      "+--------+-----------------------+------------------------------------+\n|res_id  |establishment_types_new|name                                |\n+--------+-----------------------+------------------------------------+\n|17066603|null                   |The Coop                            |\n|17059541|null                   |Maggiano's Little Italy             |\n|17064405|null                   |Tako Cheena by Pom Pom              |\n|17057797|null                   |Bosphorous Turkish Cuisine          |\n|17057591|null                   |Bahama Breeze Island Grille         |\n|17064266|null                   |Hawkers Asian Street Fare           |\n|17060516|null                   |Seasons 52 Fresh Grill              |\n|17060320|null                   |Raglan Road Irish Pub and Restaurant|\n|17059060|null                   |Hillstone                           |\n|17059012|null                   |Hollerbach's Willow Tree Café       |\n|17060869|null                   |Texas de Brazil                     |\n|17061231|null                   |The Ravenous Pig                    |\n|17058534|null                   |Earl of Sandwich                    |\n|17057925|null                   |Café Tu Tu Tango                    |\n|17064031|null                   |Tibby's New Orleans Kitchen         |\n|17061237|null                   |Cevíche Tapas Bar & Restaurant      |\n|17061253|null                   |Ethos Vegan Kitchen                 |\n|17061296|null                   |Pom Pom's Teahouse and Sandwicheria |\n|17061205|null                   |Yellow Dog Eats                     |\n|17057397|null                   |'Ohana                              |\n+--------+-----------------------+------------------------------------+\nonly showing top 20 rows\n\n"
     ]
    }
   ],
   "source": [
    "# If there is any null value in a record, then by default, explode removes (discards) the record\n",
    "# To hande the null case, use explode_outer instead of explode\n",
    "resturant_json_data.select(\"*\", explode(\"restaurants\").alias(\"new_restaurants\"))\\\n",
    "    .drop(\"restaurants\")\\\n",
    "        .select(\n",
    "            \"new_restaurants.restaurant.R.res_id\",\n",
    "            explode_outer(\"new_restaurants.restaurant.establishment_types\").alias(\"establishment_types_new\"),\n",
    "            \"new_restaurants.restaurant.name\"\n",
    "        ).drop(\"new_restaurants\").show(truncate=False)"
   ]
  },
  {
   "cell_type": "markdown",
   "metadata": {
    "application/vnd.databricks.v1+cell": {
     "cellMetadata": {},
     "inputWidgets": {},
     "nuid": "aecea57d-61ef-4bfb-a042-bea8cd383d01",
     "showTitle": false,
     "title": ""
    }
   },
   "source": [
    "---"
   ]
  }
 ],
 "metadata": {
  "application/vnd.databricks.v1+notebook": {
   "dashboards": [],
   "language": "python",
   "notebookMetadata": {
    "pythonIndentUnit": 4
   },
   "notebookName": "json_file_reading",
   "widgets": {}
  }
 },
 "nbformat": 4,
 "nbformat_minor": 0
}
